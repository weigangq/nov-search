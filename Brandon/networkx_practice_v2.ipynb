{
  "nbformat": 4,
  "nbformat_minor": 0,
  "metadata": {
    "colab": {
      "provenance": [],
      "collapsed_sections": []
    },
    "kernelspec": {
      "name": "python3",
      "display_name": "Python 3"
    },
    "language_info": {
      "name": "python"
    }
  },
  "cells": [
    {
      "cell_type": "code",
      "execution_count": null,
      "metadata": {
        "id": "hDdVTMOoQQmv"
      },
      "outputs": [],
      "source": [
        "import pandas as pd\n",
        "import matplotlib.pyplot as plt\n",
        "import networkx as nx\n",
        "\n",
        "df = pd.read_csv('https://raw.githubusercontent.com/weigangq/nov-search/main/data/nk-landscape-N4.tsv', sep = '\\t', dtype={\"hap\":\"string\"}) #import data\n",
        "#print(df)\n",
        "\n",
        "DG = nx.DiGraph() #create directed graph\n",
        "for id in df['ranked_id']: #add all id's as nodes\n",
        "    DG.add_node(id)\n",
        "\n",
        "def hamming_distance(string1, string2): #create function for calculating differences between strings, use to determine edges\n",
        "    distance = 0\n",
        "    L = len(string1)\n",
        "    for i in range(L):\n",
        "        if string1[i] != string2[i]:\n",
        "            distance += 1\n",
        "    return distance\n",
        "\n",
        "for i in range(0,16): #add edges based on hamming distance and fitness values\n",
        "  for j in range(0,16):\n",
        "    x = hamming_distance(df.hap[i], df.hap[j])\n",
        "    if x == 1: \n",
        "      if df.fit[j] > df.fit[i]: \n",
        "        DG.add_edge(df.ranked_id[i], df.ranked_id[j])\n",
        "\n",
        "plt.figure(figsize = (7,7), dpi=150) #plot the directed graph\n",
        "nx.draw(DG, with_labels = True,\n",
        "        node_size = 1000,\n",
        "        node_color = ['green'],\n",
        "        font_size = 8)\n",
        "plt.show()\n",
        "#plt.savefig(\"practice_networkx.png\")"
      ]
    }
  ]
}