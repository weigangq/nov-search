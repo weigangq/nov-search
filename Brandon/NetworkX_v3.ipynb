{
  "nbformat": 4,
  "nbformat_minor": 0,
  "metadata": {
    "colab": {
      "provenance": [],
      "collapsed_sections": []
    },
    "kernelspec": {
      "name": "python3",
      "display_name": "Python 3"
    },
    "language_info": {
      "name": "python"
    }
  },
  "cells": [
    {
      "cell_type": "code",
      "execution_count": null,
      "metadata": {
        "id": "q11e7c7Cqx-f"
      },
      "outputs": [],
      "source": [
        "import pandas as pd\n",
        "import matplotlib.pyplot as plt\n",
        "import networkx as nx\n",
        "\n",
        "df = pd.read_csv('https://raw.githubusercontent.com/weigangq/nov-search/main/data/nk-landscape-N4.tsv', sep = '\\t', dtype={\"hap\":\"string\"}) #import data\n",
        "#print(df)\n",
        "\n",
        "DG = nx.DiGraph() #create directed graph\n",
        "for id in df['ranked_id']: #add all id's as nodes\n",
        "    DG.add_node(id)\n",
        "\n",
        "df_dict = df.to_dict('records') #create list of dictionaries for rows in df\n",
        "\n",
        "def hamming_distance(string1, string2): #create function for calculating differences between strings, use to determine edges\n",
        "    distance = 0\n",
        "    L = len(string1)\n",
        "    for i in range(L):\n",
        "        if string1[i] != string2[i]:\n",
        "            distance += 1\n",
        "    return distance\n",
        "\n",
        "for i in range(len(df.index)): #add edges based on hamming distance and fitness values\n",
        "  for j in range(i+1, len(df.index)): \n",
        "    x = hamming_distance(df_dict[i]['hap'], df_dict[j]['hap'])\n",
        "    if x == 1:\n",
        "      if df_dict[i]['fit'] > df_dict[j]['fit']: \n",
        "        DG.add_edge(df_dict[j]['ranked_id'], df_dict[i]['ranked_id'])\n",
        "      else:\n",
        "        DG.add_edge(df_dict[i]['ranked_id'], df_dict[j]['ranked_id'])\n",
        "\n",
        "plt.figure(figsize = (7,7), dpi=150) #plot the directed graph\n",
        "nx.draw(DG, with_labels = True,\n",
        "        node_size = 1000,\n",
        "        node_color = ['green'],\n",
        "        font_size = 8)\n",
        "plt.show()\n",
        "#plt.savefig(\"practice_networkx.png\")"
      ]
    }
  ]
}