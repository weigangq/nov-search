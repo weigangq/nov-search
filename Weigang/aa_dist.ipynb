{
 "cells": [
  {
   "cell_type": "code",
   "execution_count": 61,
   "id": "eef59001",
   "metadata": {},
   "outputs": [],
   "source": [
    "import numpy as np\n",
    "import pandas as pd\n",
    "import sys\n",
    "import re\n",
    "import matplotlib.pyplot as plt\n",
    "\n",
    "# List of all possible letters representing amino acids.\n",
    "amino_acids = ['A', 'C', 'D', 'E', 'F', 'G', 'H', 'I', 'K', 'L', 'M', 'N', 'P', 'Q', 'R', 'S', 'T', 'V', 'W', 'Y']\n",
    "\n",
    "# Amino acid physicochemical properties\n",
    "# Polarity (Grantham, 1974)\n",
    "polarity = {'A': 8.1, 'C': 5.5, 'D': 13, 'E': 12.3, 'F': 5.2, 'G': 9, 'H': 10.4, 'I': 5.2, 'K': 11.3, 'L': 4.9,\n",
    "            'M': 5.7, 'N': 11.6, 'P': 8, 'Q': 10.5, 'R': 10.5, 'S': 9.2, 'T': 8.6, 'V': 5.9, 'W': 5.4, 'Y': 6.2\n",
    "            }\n",
    "\n",
    "# Hydropathy index (Kyte-Doolittle, 1982)\n",
    "hydropathy = {'A': 1.8, 'C': 2.5, 'D': -3.5, 'E': -3.5, 'F': 2.8, 'G': -0.4, 'H': -3.2, 'I': 4.5, 'K': -3.9, 'L': 3.8,\n",
    "              'M': 1.9, 'N': -3.5, 'P': -1.6, 'Q': -3.5, 'R': -4.5, 'S': -0.8, 'T': -0.7, 'V': 4.2, 'W': -0.9, 'Y': -1.3\n",
    "              }\n",
    "\n",
    "# Isoelectric index (Zimmerman, 1968)\n",
    "iso = {'A': 6, 'C': 5.05, 'D': 2.77, 'E': 3.22, 'F': 5.48, 'G': 5.97, 'H': 7.59, 'I': 6.02, 'K': 9.74, 'L': 5.98,\n",
    "              'M': 5.74, 'N': 5.41, 'P': 6.3, 'Q': 5.65, 'R': 10.76, 'S': 5.68, 'T': 5.66, 'V': 5.96, 'W': 5.89, 'Y': 5.66\n",
    "              }\n",
    "\n",
    "# positions\n",
    "pos = range(331, 532)\n",
    "pos_dist = []\n",
    "for i in range(331, 531):\n",
    "    for j in range(i+1, 532):\n",
    "        pos_dist.append(abs(i-j))\n",
    "\n",
    "#print(pos_dist)\n",
    "pol_dist = {}\n",
    "hydro_dist = {}\n",
    "iso_dist = {}\n",
    "\n",
    "for i in range(len(amino_acids)): # sorted aa list\n",
    "    for j in range(i, len(amino_acids)):\n",
    "        pol_dist[(amino_acids[i], amino_acids[j])] = abs(polarity[amino_acids[i]] - polarity[amino_acids[j]])\n",
    "        hydro_dist[(amino_acids[i], amino_acids[j])] = abs(hydropathy[amino_acids[i]] - hydropathy[amino_acids[j]])\n",
    "        iso_dist[(amino_acids[i], amino_acids[j])] = abs(iso[amino_acids[i]] - iso[amino_acids[j]])\n",
    "    \n",
    "#print(pol_dist)\n",
    "#print(len(iso_dist))\n",
    "#plt.figure()\n",
    "#df = pd.DataFrame.from_dict(pol_dist)\n",
    "#, hydro_dist, iso_dist)\n",
    "#print(df.head)\n",
    "#pd.Series(pol_dist).plot.hist(bins=20)\n",
    "#pd.Series(hydro_dist).plot.hist(bins=20)\n",
    "#pd.Series(iso_dist).plot.hist(bins=20)\n"
   ]
  },
  {
   "cell_type": "code",
   "execution_count": 62,
   "id": "2a68d41b",
   "metadata": {},
   "outputs": [
    {
     "data": {
      "text/plain": [
       "<AxesSubplot:ylabel='Frequency'>"
      ]
     },
     "execution_count": 62,
     "metadata": {},
     "output_type": "execute_result"
    },
    {
     "data": {
      "image/png": "[encoded data removed]",
      "text/plain": [
       "<Figure size 432x288 with 8 Axes>"
      ]
     },
     "metadata": {
      "needs_background": "light"
     },
     "output_type": "display_data"
    }
   ],
   "source": [
    "# Normalize pair diff to 0-1\n",
    "def normalize(arr, t_min, t_max):\n",
    "    norm_arr = []\n",
    "    diff = t_max - t_min\n",
    "    diff_arr = max(arr) - min(arr)\n",
    "    for i in arr:\n",
    "        temp = (((i - min(arr))*diff)/diff_arr) + t_min\n",
    "        norm_arr.append(temp)\n",
    "    return norm_arr\n",
    "\n",
    "def normalize_dict(dic, t_min, t_max):\n",
    "    norm_dic = {}\n",
    "    diff = t_max - t_min\n",
    "    vals = list(dic.values())\n",
    "    diff_arr = max(vals) - min(vals)\n",
    "    for k in dic:\n",
    "        temp = (((dic[k] - min(vals))*diff)/diff_arr) + t_min\n",
    "        norm_dic[k] = {'val': round(dic[k],6), 'norm': round(temp,6)}\n",
    "    return norm_dic\n",
    "\n",
    "pos_norm = normalize(pos_dist, 0, 1)\n",
    "\n",
    "pol_norm = normalize_dict(pol_dist, 0, 1)\n",
    "pol_val = [ pol_norm[x]['val'] for x in pol_norm ]\n",
    "pol_nor = [ pol_norm[x]['norm'] for x in pol_norm ]\n",
    "\n",
    "hyd_norm = normalize_dict(hydro_dist, 0, 1)\n",
    "hyd_val = [ hyd_norm[x]['val'] for x in hyd_norm ]\n",
    "hyd_nor = [ hyd_norm[x]['norm'] for x in hyd_norm ]\n",
    "\n",
    "iso_norm = normalize_dict(iso_dist, 0, 1)\n",
    "iso_val = [ iso_norm[x]['val'] for x in iso_norm ]\n",
    "iso_nor = [ iso_norm[x]['norm'] for x in iso_norm ]\n",
    "\n",
    "fig, axs = plt.subplots(nrows=2, ncols=4)\n",
    "pd.Series(pol_val).plot.hist(bins=20, ax=axs[0,0]); axs[0,0].set_title(\"polarity\")\n",
    "pd.Series(pol_nor).plot.hist(bins=20, ax=axs[1,0])\n",
    "pd.Series(hyd_val).plot.hist(bins=20, ax=axs[0,1]); axs[0,1].set_title(\"hydropathy\")\n",
    "pd.Series(hyd_nor).plot.hist(bins=20, ax=axs[1,1])\n",
    "pd.Series(iso_val).plot.hist(bins=20, ax=axs[0,2]); axs[0,2].set_title(\"isoelectricity\")\n",
    "pd.Series(iso_nor).plot.hist(bins=20, ax=axs[1,2])\n",
    "pd.Series(pos_dist).plot.hist(bins=100, ax=axs[0,3]); axs[0,3].set_title(\"position\")\n",
    "pd.Series(pos_norm).plot.hist(bins=100, ax=axs[1,3])\n",
    "    "
   ]
  },
  {
   "cell_type": "code",
   "execution_count": 66,
   "id": "f735fe5a",
   "metadata": {},
   "outputs": [
    {
     "name": "stdout",
     "output_type": "stream",
     "text": [
      "[]\n"
     ]
    }
   ],
   "source": [
    "a = np.empty([0,10], dtype = str)\n",
    "print(a)"
   ]
  }
 ],
 "metadata": {
  "kernelspec": {
   "display_name": "Python 3 (ipykernel)",
   "language": "python",
   "name": "python3"
  },
  "language_info": {
   "codemirror_mode": {
    "name": "ipython",
    "version": 3
   },
   "file_extension": ".py",
   "mimetype": "text/x-python",
   "name": "python",
   "nbconvert_exporter": "python",
   "pygments_lexer": "ipython3",
   "version": "3.9.7"
  }
 },
 "nbformat": 4,
 "nbformat_minor": 5
}
